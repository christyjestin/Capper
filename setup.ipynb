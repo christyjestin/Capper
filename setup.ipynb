{
 "cells": [
  {
   "cell_type": "code",
   "execution_count": 6,
   "metadata": {},
   "outputs": [],
   "source": [
    "from collections import defaultdict\n",
    "import matplotlib.pyplot as plt\n",
    "from pathlib import Path\n",
    "import json\n",
    "import pickle\n",
    "import numpy as np\n",
    "\n",
    "with open(\"captions_train2014.json\", \"r\") as read_file:\n",
    "    captions_train = json.load(read_file)\n",
    "    \n",
    "with open(\"resnet18_features.pkl\", \"rb\") as read_file:\n",
    "    images_dict = pickle.load(read_file)\n",
    "\n",
    "keys_array = np.array(list(images_dict.keys()))\n",
    "        \n",
    "captions_dict = defaultdict(list)\n",
    "captions_list = list()\n",
    "for annotation in captions_train['annotations']:\n",
    "    if annotation['image_id'] in keys_array:\n",
    "        captions_dict[annotation['image_id']].append(annotation)\n",
    "        captions_list.append(annotation['caption'])\n",
    "\n",
    "with open('images_dict.pkl', 'wb') as handle:\n",
    "        pickle.dump(images_dict, handle, protocol=pickle.HIGHEST_PROTOCOL)\n",
    "with open('captions_dict.pkl', 'wb') as handle:\n",
    "        pickle.dump(captions_dict, handle, protocol=pickle.HIGHEST_PROTOCOL)\n",
    "with open('captions_list.pkl', 'wb') as handle:\n",
    "        pickle.dump(captions_list, handle, protocol=pickle.HIGHEST_PROTOCOL)\n",
    "with open('keys_array.pkl', 'wb') as handle:\n",
    "        pickle.dump(keys_array, handle, protocol=pickle.HIGHEST_PROTOCOL)\n",
    "with open('captions_train.pkl', 'wb') as handle:\n",
    "        pickle.dump(captions_train, handle, protocol=pickle.HIGHEST_PROTOCOL)"
   ]
  },
  {
   "cell_type": "code",
   "execution_count": 72,
   "metadata": {},
   "outputs": [],
   "source": [
    "with open(\"captions_train2014.json\", \"r\") as read_file:\n",
    "    captions_train = json.load(read_file)\n",
    "for annotation in captions_train['annotations']:\n",
    "    if annotation['image_id'] in keys_array:\n",
    "        captions_dict[annotation['image_id']].append(annotation)\n",
    "with open('captions_dict.pkl', 'wb') as handle:\n",
    "        pickle.dump(captions_dict, handle, protocol=pickle.HIGHEST_PROTOCOL)"
   ]
  },
  {
   "cell_type": "code",
   "execution_count": 31,
   "metadata": {},
   "outputs": [],
   "source": [
    "import re, string\n",
    "def strip_punc(corpus: str):\n",
    "    \"\"\" Removes all punctuation from a string.\n",
    "\n",
    "        Parameters\n",
    "        ----------\n",
    "        corpus : str\n",
    "\n",
    "        Returns\n",
    "        -------\n",
    "        str\n",
    "            the corpus with all punctuation removed\"\"\"\n",
    "\n",
    "    punc_regex = re.compile('[{}]'.format(re.escape(string.punctuation)))\n",
    "    return punc_regex.sub(\"\", corpus)"
   ]
  },
  {
   "cell_type": "code",
   "execution_count": 2,
   "metadata": {},
   "outputs": [],
   "source": [
    "from pathlib import Path\n",
    "import pickle\n",
    "with open(\"./stopwords.txt\", 'r') as r:\n",
    "    stops = []\n",
    "    for line in r:\n",
    "        stops += [i.strip() for i in line.split('\\t')]\n",
    "        \n",
    "with open('stopwords.pkl', 'wb') as handle:\n",
    "        pickle.dump(stops, handle, protocol=pickle.HIGHEST_PROTOCOL)"
   ]
  },
  {
   "cell_type": "code",
   "execution_count": 33,
   "metadata": {},
   "outputs": [],
   "source": [
    "import numpy as np\n",
    "vocabulary = defaultdict(int)\n",
    "vocabulary_idf = dict()\n",
    "for caption in captions_list:\n",
    "    for word in strip_punc(caption).lower().split():\n",
    "        if word not in stops and word in glove:\n",
    "            vocabulary[word]+=1\n",
    "for i in vocabulary.keys():\n",
    "    vocabulary_idf[i] = np.log10(len(captions_list)/vocabulary[i])\n",
    "    \n"
   ]
  },
  {
   "cell_type": "code",
   "execution_count": 49,
   "metadata": {},
   "outputs": [],
   "source": [
    "with open('vocabulary.pkl', 'wb') as handle:\n",
    "        pickle.dump(vocabulary, handle, protocol=pickle.HIGHEST_PROTOCOL)\n",
    "        \n",
    "with open('vocabulary_idf.pkl', 'wb') as handle:\n",
    "        pickle.dump(vocabulary_idf, handle, protocol=pickle.HIGHEST_PROTOCOL)\n",
    "        \n",
    "with open('tags_dict.pkl', 'wb') as handle:\n",
    "        pickle.dump(tags_dict, handle, protocol=pickle.HIGHEST_PROTOCOL)\n",
    "        \n",
    "with open('truth_tags.pkl', 'wb') as handle:\n",
    "        pickle.dump(truth_tags, handle, protocol=pickle.HIGHEST_PROTOCOL)"
   ]
  },
  {
   "cell_type": "code",
   "execution_count": 45,
   "metadata": {},
   "outputs": [],
   "source": [
    "from collections import Counter\n",
    "tags_dict = defaultdict(list)\n",
    "truth_tags = dict()\n",
    "for i,v in captions_dict.items():\n",
    "    for annotation in v:\n",
    "        for word in strip_punc(annotation['caption']).lower().split():\n",
    "            if word in vocabulary and word in glove:\n",
    "                tags_dict[i].append(word)"
   ]
  },
  {
   "cell_type": "code",
   "execution_count": 79,
   "metadata": {},
   "outputs": [],
   "source": [
    "for i in keys_array:\n",
    "    c = Counter(tags_dict[i])\n",
    "    for tag, count in c.items():\n",
    "        c[tag] = c[tag]**2\n",
    "        c[tag] *= vocabulary_idf[tag]\n",
    "    d = c.most_common(3)\n",
    "    truth_tags[i] = np.zeros((3,50))\n",
    "    for u in range(3):\n",
    "        truth_tags[i][u] = glove[d[u][0]]"
   ]
  },
  {
   "cell_type": "code",
   "execution_count": null,
   "metadata": {},
   "outputs": [],
   "source": []
  },
  {
   "cell_type": "code",
   "execution_count": 80,
   "metadata": {},
   "outputs": [],
   "source": [
    "# from numba import njit\n",
    "\n",
    "# @njit\n",
    "def permutate(x):\n",
    "    perms = [np.array([0,1,2]), np.array([0,2,1]), np.array([1,0,2]), np.array([1,2,0]), np.array([2,0,1]), np.array([2,1,0])]\n",
    "    m,n = x.shape\n",
    "    perm_array = np.zeros((6,m*n))\n",
    "    for i in range(6):\n",
    "        perm_array[i] = x[perms[i]].flatten()\n",
    "    return perm_array"
   ]
  },
  {
   "cell_type": "code",
   "execution_count": 81,
   "metadata": {},
   "outputs": [],
   "source": [
    "for i in truth_tags.keys():\n",
    "    truth_tags[i] = permutate(truth_tags[i])\n",
    "    y = np.linalg.norm(truth_tags[i], axis = 1).reshape(-1,1)\n",
    "    truth_tags[i]/=y"
   ]
  },
  {
   "cell_type": "code",
   "execution_count": null,
   "metadata": {},
   "outputs": [],
   "source": [
    "from gensim.models.keyedvectors import KeyedVectors as KV\n",
    "glove = KV.load_word2vec_format('./glove.6B.50d.txt.w2v', binary=False)"
   ]
  },
  {
   "cell_type": "code",
   "execution_count": 82,
   "metadata": {},
   "outputs": [],
   "source": [
    "with open('truth_tags.pkl', 'wb') as handle:\n",
    "        pickle.dump(truth_tags, handle, protocol=pickle.HIGHEST_PROTOCOL)"
   ]
  },
  {
   "cell_type": "code",
   "execution_count": 71,
   "metadata": {},
   "outputs": [
    {
     "data": {
      "text/plain": [
       "[{'image_id': 57870,\n",
       "  'id': 787980,\n",
       "  'caption': 'A restaurant has modern wooden tables and chairs.'},\n",
       " {'image_id': 57870,\n",
       "  'id': 789366,\n",
       "  'caption': 'A long restaurant table with rattan rounded back chairs.'},\n",
       " {'image_id': 57870,\n",
       "  'id': 789888,\n",
       "  'caption': 'a long table with a plant on top of it surrounded with wooden chairs '},\n",
       " {'image_id': 57870,\n",
       "  'id': 791316,\n",
       "  'caption': 'A long table with a flower arrangement in the middle for meetings'},\n",
       " {'image_id': 57870,\n",
       "  'id': 794853,\n",
       "  'caption': 'A table is adorned with wooden chairs with blue accents.'}]"
      ]
     },
     "execution_count": 71,
     "metadata": {},
     "output_type": "execute_result"
    }
   ],
   "source": [
    "captions_dict[57870]"
   ]
  },
  {
   "cell_type": "code",
   "execution_count": null,
   "metadata": {},
   "outputs": [],
   "source": []
  },
  {
   "cell_type": "code",
   "execution_count": null,
   "metadata": {},
   "outputs": [],
   "source": []
  },
  {
   "cell_type": "code",
   "execution_count": null,
   "metadata": {},
   "outputs": [],
   "source": []
  },
  {
   "cell_type": "code",
   "execution_count": null,
   "metadata": {},
   "outputs": [],
   "source": []
  }
 ],
 "metadata": {
  "kernelspec": {
   "display_name": "Python 3",
   "language": "python",
   "name": "python3"
  },
  "language_info": {
   "codemirror_mode": {
    "name": "ipython",
    "version": 3
   },
   "file_extension": ".py",
   "mimetype": "text/x-python",
   "name": "python",
   "nbconvert_exporter": "python",
   "pygments_lexer": "ipython3",
   "version": "3.7.1"
  }
 },
 "nbformat": 4,
 "nbformat_minor": 2
}
